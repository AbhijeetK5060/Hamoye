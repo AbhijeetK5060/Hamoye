{
 "cells": [
  {
   "cell_type": "code",
   "execution_count": 1,
   "metadata": {},
   "outputs": [],
   "source": [
    "import pandas as pd\n",
    "import numpy as np\n",
    "import matplotlib.pyplot as plt\n",
    "%matplotlib inline\n",
    "import seaborn as sns"
   ]
  },
  {
   "cell_type": "code",
   "execution_count": 2,
   "metadata": {},
   "outputs": [
    {
     "data": {
      "text/plain": [
       "'C:\\\\Users\\\\Amit'"
      ]
     },
     "execution_count": 2,
     "metadata": {},
     "output_type": "execute_result"
    }
   ],
   "source": [
    "import os\n",
    "path = 'C:/Users/Amit'\n",
    "os.chdir(path)\n",
    "os.getcwd()"
   ]
  },
  {
   "cell_type": "code",
   "execution_count": 3,
   "metadata": {},
   "outputs": [
    {
     "data": {
      "text/html": [
       "<div>\n",
       "<style scoped>\n",
       "    .dataframe tbody tr th:only-of-type {\n",
       "        vertical-align: middle;\n",
       "    }\n",
       "\n",
       "    .dataframe tbody tr th {\n",
       "        vertical-align: top;\n",
       "    }\n",
       "\n",
       "    .dataframe thead th {\n",
       "        text-align: right;\n",
       "    }\n",
       "</style>\n",
       "<table border=\"1\" class=\"dataframe\">\n",
       "  <thead>\n",
       "    <tr style=\"text-align: right;\">\n",
       "      <th></th>\n",
       "      <th>record_id</th>\n",
       "      <th>utility_id_ferc1</th>\n",
       "      <th>report_year</th>\n",
       "      <th>plant_name_ferc1</th>\n",
       "      <th>fuel_type_code_pudl</th>\n",
       "      <th>fuel_unit</th>\n",
       "      <th>fuel_qty_burned</th>\n",
       "      <th>fuel_mmbtu_per_unit</th>\n",
       "      <th>fuel_cost_per_unit_burned</th>\n",
       "      <th>fuel_cost_per_unit_delivered</th>\n",
       "      <th>fuel_cost_per_mmbtu</th>\n",
       "    </tr>\n",
       "  </thead>\n",
       "  <tbody>\n",
       "    <tr>\n",
       "      <th>0</th>\n",
       "      <td>f1_fuel_1994_12_1_0_7</td>\n",
       "      <td>1</td>\n",
       "      <td>1994</td>\n",
       "      <td>rockport</td>\n",
       "      <td>coal</td>\n",
       "      <td>ton</td>\n",
       "      <td>5377489.0</td>\n",
       "      <td>16.590</td>\n",
       "      <td>18.59</td>\n",
       "      <td>18.53</td>\n",
       "      <td>1.121</td>\n",
       "    </tr>\n",
       "    <tr>\n",
       "      <th>1</th>\n",
       "      <td>f1_fuel_1994_12_1_0_10</td>\n",
       "      <td>1</td>\n",
       "      <td>1994</td>\n",
       "      <td>rockport total plant</td>\n",
       "      <td>coal</td>\n",
       "      <td>ton</td>\n",
       "      <td>10486945.0</td>\n",
       "      <td>16.592</td>\n",
       "      <td>18.58</td>\n",
       "      <td>18.53</td>\n",
       "      <td>1.120</td>\n",
       "    </tr>\n",
       "    <tr>\n",
       "      <th>2</th>\n",
       "      <td>f1_fuel_1994_12_2_0_1</td>\n",
       "      <td>2</td>\n",
       "      <td>1994</td>\n",
       "      <td>gorgas</td>\n",
       "      <td>coal</td>\n",
       "      <td>ton</td>\n",
       "      <td>2978683.0</td>\n",
       "      <td>24.130</td>\n",
       "      <td>39.72</td>\n",
       "      <td>38.12</td>\n",
       "      <td>1.650</td>\n",
       "    </tr>\n",
       "    <tr>\n",
       "      <th>3</th>\n",
       "      <td>f1_fuel_1994_12_2_0_7</td>\n",
       "      <td>2</td>\n",
       "      <td>1994</td>\n",
       "      <td>barry</td>\n",
       "      <td>coal</td>\n",
       "      <td>ton</td>\n",
       "      <td>3739484.0</td>\n",
       "      <td>23.950</td>\n",
       "      <td>47.21</td>\n",
       "      <td>45.99</td>\n",
       "      <td>1.970</td>\n",
       "    </tr>\n",
       "    <tr>\n",
       "      <th>4</th>\n",
       "      <td>f1_fuel_1994_12_2_0_10</td>\n",
       "      <td>2</td>\n",
       "      <td>1994</td>\n",
       "      <td>chickasaw</td>\n",
       "      <td>gas</td>\n",
       "      <td>mcf</td>\n",
       "      <td>40533.0</td>\n",
       "      <td>1.000</td>\n",
       "      <td>2.77</td>\n",
       "      <td>2.77</td>\n",
       "      <td>2.570</td>\n",
       "    </tr>\n",
       "  </tbody>\n",
       "</table>\n",
       "</div>"
      ],
      "text/plain": [
       "                record_id  utility_id_ferc1  report_year  \\\n",
       "0   f1_fuel_1994_12_1_0_7                 1         1994   \n",
       "1  f1_fuel_1994_12_1_0_10                 1         1994   \n",
       "2   f1_fuel_1994_12_2_0_1                 2         1994   \n",
       "3   f1_fuel_1994_12_2_0_7                 2         1994   \n",
       "4  f1_fuel_1994_12_2_0_10                 2         1994   \n",
       "\n",
       "       plant_name_ferc1 fuel_type_code_pudl fuel_unit  fuel_qty_burned  \\\n",
       "0              rockport                coal       ton        5377489.0   \n",
       "1  rockport total plant                coal       ton       10486945.0   \n",
       "2                gorgas                coal       ton        2978683.0   \n",
       "3                 barry                coal       ton        3739484.0   \n",
       "4             chickasaw                 gas       mcf          40533.0   \n",
       "\n",
       "   fuel_mmbtu_per_unit  fuel_cost_per_unit_burned  \\\n",
       "0               16.590                      18.59   \n",
       "1               16.592                      18.58   \n",
       "2               24.130                      39.72   \n",
       "3               23.950                      47.21   \n",
       "4                1.000                       2.77   \n",
       "\n",
       "   fuel_cost_per_unit_delivered  fuel_cost_per_mmbtu  \n",
       "0                         18.53                1.121  \n",
       "1                         18.53                1.120  \n",
       "2                         38.12                1.650  \n",
       "3                         45.99                1.970  \n",
       "4                          2.77                2.570  "
      ]
     },
     "execution_count": 3,
     "metadata": {},
     "output_type": "execute_result"
    }
   ],
   "source": [
    "data = pd.read_csv('fuel.csv')\n",
    "data.head()"
   ]
  },
  {
   "cell_type": "code",
   "execution_count": 4,
   "metadata": {},
   "outputs": [
    {
     "data": {
      "text/plain": [
       "(29523, 11)"
      ]
     },
     "execution_count": 4,
     "metadata": {},
     "output_type": "execute_result"
    }
   ],
   "source": [
    "data.shape"
   ]
  },
  {
   "cell_type": "code",
   "execution_count": 5,
   "metadata": {},
   "outputs": [
    {
     "data": {
      "text/html": [
       "<div>\n",
       "<style scoped>\n",
       "    .dataframe tbody tr th:only-of-type {\n",
       "        vertical-align: middle;\n",
       "    }\n",
       "\n",
       "    .dataframe tbody tr th {\n",
       "        vertical-align: top;\n",
       "    }\n",
       "\n",
       "    .dataframe thead th {\n",
       "        text-align: right;\n",
       "    }\n",
       "</style>\n",
       "<table border=\"1\" class=\"dataframe\">\n",
       "  <thead>\n",
       "    <tr style=\"text-align: right;\">\n",
       "      <th></th>\n",
       "      <th>utility_id_ferc1</th>\n",
       "      <th>report_year</th>\n",
       "      <th>fuel_qty_burned</th>\n",
       "      <th>fuel_mmbtu_per_unit</th>\n",
       "      <th>fuel_cost_per_unit_burned</th>\n",
       "      <th>fuel_cost_per_unit_delivered</th>\n",
       "      <th>fuel_cost_per_mmbtu</th>\n",
       "    </tr>\n",
       "  </thead>\n",
       "  <tbody>\n",
       "    <tr>\n",
       "      <th>count</th>\n",
       "      <td>29523.000000</td>\n",
       "      <td>29523.000000</td>\n",
       "      <td>2.952300e+04</td>\n",
       "      <td>29523.000000</td>\n",
       "      <td>29523.000000</td>\n",
       "      <td>2.952300e+04</td>\n",
       "      <td>29523.000000</td>\n",
       "    </tr>\n",
       "    <tr>\n",
       "      <th>mean</th>\n",
       "      <td>118.601836</td>\n",
       "      <td>2005.806050</td>\n",
       "      <td>2.622119e+06</td>\n",
       "      <td>8.492111</td>\n",
       "      <td>208.649031</td>\n",
       "      <td>9.175704e+02</td>\n",
       "      <td>19.304354</td>\n",
       "    </tr>\n",
       "    <tr>\n",
       "      <th>std</th>\n",
       "      <td>74.178353</td>\n",
       "      <td>7.025483</td>\n",
       "      <td>9.118004e+06</td>\n",
       "      <td>10.600220</td>\n",
       "      <td>2854.490090</td>\n",
       "      <td>6.877593e+04</td>\n",
       "      <td>2091.540939</td>\n",
       "    </tr>\n",
       "    <tr>\n",
       "      <th>min</th>\n",
       "      <td>1.000000</td>\n",
       "      <td>1994.000000</td>\n",
       "      <td>1.000000e+00</td>\n",
       "      <td>0.000001</td>\n",
       "      <td>-276.080000</td>\n",
       "      <td>-8.749370e+02</td>\n",
       "      <td>-41.501000</td>\n",
       "    </tr>\n",
       "    <tr>\n",
       "      <th>25%</th>\n",
       "      <td>55.000000</td>\n",
       "      <td>2000.000000</td>\n",
       "      <td>1.381700e+04</td>\n",
       "      <td>1.024000</td>\n",
       "      <td>5.207000</td>\n",
       "      <td>3.778500e+00</td>\n",
       "      <td>1.940000</td>\n",
       "    </tr>\n",
       "    <tr>\n",
       "      <th>50%</th>\n",
       "      <td>122.000000</td>\n",
       "      <td>2006.000000</td>\n",
       "      <td>2.533220e+05</td>\n",
       "      <td>5.762694</td>\n",
       "      <td>26.000000</td>\n",
       "      <td>1.737100e+01</td>\n",
       "      <td>4.127000</td>\n",
       "    </tr>\n",
       "    <tr>\n",
       "      <th>75%</th>\n",
       "      <td>176.000000</td>\n",
       "      <td>2012.000000</td>\n",
       "      <td>1.424034e+06</td>\n",
       "      <td>17.006000</td>\n",
       "      <td>47.113000</td>\n",
       "      <td>4.213700e+01</td>\n",
       "      <td>7.745000</td>\n",
       "    </tr>\n",
       "    <tr>\n",
       "      <th>max</th>\n",
       "      <td>514.000000</td>\n",
       "      <td>2018.000000</td>\n",
       "      <td>5.558942e+08</td>\n",
       "      <td>341.260000</td>\n",
       "      <td>139358.000000</td>\n",
       "      <td>7.964521e+06</td>\n",
       "      <td>359278.000000</td>\n",
       "    </tr>\n",
       "  </tbody>\n",
       "</table>\n",
       "</div>"
      ],
      "text/plain": [
       "       utility_id_ferc1   report_year  fuel_qty_burned  fuel_mmbtu_per_unit  \\\n",
       "count      29523.000000  29523.000000     2.952300e+04         29523.000000   \n",
       "mean         118.601836   2005.806050     2.622119e+06             8.492111   \n",
       "std           74.178353      7.025483     9.118004e+06            10.600220   \n",
       "min            1.000000   1994.000000     1.000000e+00             0.000001   \n",
       "25%           55.000000   2000.000000     1.381700e+04             1.024000   \n",
       "50%          122.000000   2006.000000     2.533220e+05             5.762694   \n",
       "75%          176.000000   2012.000000     1.424034e+06            17.006000   \n",
       "max          514.000000   2018.000000     5.558942e+08           341.260000   \n",
       "\n",
       "       fuel_cost_per_unit_burned  fuel_cost_per_unit_delivered  \\\n",
       "count               29523.000000                  2.952300e+04   \n",
       "mean                  208.649031                  9.175704e+02   \n",
       "std                  2854.490090                  6.877593e+04   \n",
       "min                  -276.080000                 -8.749370e+02   \n",
       "25%                     5.207000                  3.778500e+00   \n",
       "50%                    26.000000                  1.737100e+01   \n",
       "75%                    47.113000                  4.213700e+01   \n",
       "max                139358.000000                  7.964521e+06   \n",
       "\n",
       "       fuel_cost_per_mmbtu  \n",
       "count         29523.000000  \n",
       "mean             19.304354  \n",
       "std            2091.540939  \n",
       "min             -41.501000  \n",
       "25%               1.940000  \n",
       "50%               4.127000  \n",
       "75%               7.745000  \n",
       "max          359278.000000  "
      ]
     },
     "execution_count": 5,
     "metadata": {},
     "output_type": "execute_result"
    }
   ],
   "source": [
    "data.describe()"
   ]
  },
  {
   "cell_type": "code",
   "execution_count": 6,
   "metadata": {
    "scrolled": true
   },
   "outputs": [
    {
     "data": {
      "text/plain": [
       "record_id                         0\n",
       "utility_id_ferc1                  0\n",
       "report_year                       0\n",
       "plant_name_ferc1                  0\n",
       "fuel_type_code_pudl               0\n",
       "fuel_unit                       180\n",
       "fuel_qty_burned                   0\n",
       "fuel_mmbtu_per_unit               0\n",
       "fuel_cost_per_unit_burned         0\n",
       "fuel_cost_per_unit_delivered      0\n",
       "fuel_cost_per_mmbtu               0\n",
       "dtype: int64"
      ]
     },
     "execution_count": 6,
     "metadata": {},
     "output_type": "execute_result"
    }
   ],
   "source": [
    "# Ckeck missing values in dataset\n",
    "data.isnull().sum()"
   ]
  },
  {
   "cell_type": "code",
   "execution_count": 7,
   "metadata": {},
   "outputs": [
    {
     "data": {
      "text/plain": [
       "mcf       11354\n",
       "ton        8958\n",
       "bbl        7998\n",
       "gramsU      464\n",
       "mmbtu       180\n",
       "kgU         110\n",
       "mwhth       100\n",
       "mwdth        95\n",
       "gal          84\n",
       "Name: fuel_unit, dtype: int64"
      ]
     },
     "execution_count": 7,
     "metadata": {},
     "output_type": "execute_result"
    }
   ],
   "source": [
    "# Calulate most time repeated value of 'fuel_unit'\n",
    "data.fuel_unit.value_counts()\n",
    "#data.groupby('fuel_unit')['fuel_unit'].count()"
   ]
  },
  {
   "cell_type": "code",
   "execution_count": 8,
   "metadata": {},
   "outputs": [],
   "source": [
    "# Replace the missing values with most repeated value of 'fuel_unit'\n",
    "#data['fuel_unit'] = data['fuel_unit'].fillna(value = 'mcf')"
   ]
  },
  {
   "cell_type": "code",
   "execution_count": 9,
   "metadata": {},
   "outputs": [
    {
     "data": {
      "text/plain": [
       "record_id                         0\n",
       "utility_id_ferc1                  0\n",
       "report_year                       0\n",
       "plant_name_ferc1                  0\n",
       "fuel_type_code_pudl               0\n",
       "fuel_unit                       180\n",
       "fuel_qty_burned                   0\n",
       "fuel_mmbtu_per_unit               0\n",
       "fuel_cost_per_unit_burned         0\n",
       "fuel_cost_per_unit_delivered      0\n",
       "fuel_cost_per_mmbtu               0\n",
       "dtype: int64"
      ]
     },
     "execution_count": 9,
     "metadata": {},
     "output_type": "execute_result"
    }
   ],
   "source": [
    "# Check missing values are replaced or not?\n",
    "data.isnull().sum()"
   ]
  },
  {
   "cell_type": "code",
   "execution_count": 10,
   "metadata": {},
   "outputs": [
    {
     "data": {
      "text/plain": [
       "False"
      ]
     },
     "execution_count": 10,
     "metadata": {},
     "output_type": "execute_result"
    }
   ],
   "source": [
    "data.duplicated().any()"
   ]
  },
  {
   "cell_type": "code",
   "execution_count": 11,
   "metadata": {
    "scrolled": false
   },
   "outputs": [
    {
     "data": {
      "text/plain": [
       "gas        11486\n",
       "coal        8547\n",
       "oil         8064\n",
       "nuclear      818\n",
       "waste        441\n",
       "other        167\n",
       "Name: fuel_type_code_pudl, dtype: int64"
      ]
     },
     "execution_count": 11,
     "metadata": {},
     "output_type": "execute_result"
    }
   ],
   "source": [
    "data.fuel_type_code_pudl.value_counts()"
   ]
  },
  {
   "cell_type": "code",
   "execution_count": 12,
   "metadata": {},
   "outputs": [
    {
     "name": "stderr",
     "output_type": "stream",
     "text": [
      "C:\\ProgramData\\Anaconda3\\lib\\site-packages\\seaborn\\_decorators.py:36: FutureWarning: Pass the following variables as keyword args: x, y. From version 0.12, the only valid positional argument will be `data`, and passing other arguments without an explicit keyword will result in an error or misinterpretation.\n",
      "  warnings.warn(\n"
     ]
    },
    {
     "data": {
      "text/plain": [
       "<AxesSubplot:xlabel='fuel_type_code_pudl', ylabel='fuel_cost_per_unit_burned'>"
      ]
     },
     "execution_count": 12,
     "metadata": {},
     "output_type": "execute_result"
    },
    {
     "data": {
      "image/png": "[encoded data removed]",
      "text/plain": [
       "<Figure size 432x288 with 1 Axes>"
      ]
     },
     "metadata": {
      "needs_background": "light"
     },
     "output_type": "display_data"
    }
   ],
   "source": [
    "sns.boxplot(data.fuel_type_code_pudl, data.fuel_cost_per_unit_burned)"
   ]
  },
  {
   "cell_type": "code",
   "execution_count": 13,
   "metadata": {},
   "outputs": [
    {
     "name": "stdout",
     "output_type": "stream",
     "text": [
      "[1, 2, 3, 4, 5, 6, 13, 21, 34]\n"
     ]
    }
   ],
   "source": [
    "# Que1\n",
    "A = [1,2,3,4,5,6]\n",
    "B = [13,21,34]\n",
    "A.extend(B)\n",
    "print(A)"
   ]
  },
  {
   "cell_type": "code",
   "execution_count": 14,
   "metadata": {},
   "outputs": [
    {
     "data": {
      "text/plain": [
       "array([[1., 0., 0.],\n",
       "       [0., 1., 0.],\n",
       "       [0., 0., 1.]])"
      ]
     },
     "execution_count": 14,
     "metadata": {},
     "output_type": "execute_result"
    }
   ],
   "source": [
    "# Que2\n",
    "np.identity(3)"
   ]
  },
  {
   "cell_type": "code",
   "execution_count": 15,
   "metadata": {},
   "outputs": [
    {
     "data": {
      "text/plain": [
       "gas        0.389053\n",
       "coal       0.289503\n",
       "oil        0.273143\n",
       "nuclear    0.027707\n",
       "waste      0.014938\n",
       "other      0.005657\n",
       "Name: fuel_type_code_pudl, dtype: float64"
      ]
     },
     "execution_count": 15,
     "metadata": {},
     "output_type": "execute_result"
    }
   ],
   "source": [
    "# Que3\n",
    "data.fuel_type_code_pudl.value_counts() / len(data.fuel_type_code_pudl)"
   ]
  },
  {
   "cell_type": "code",
   "execution_count": 16,
   "metadata": {},
   "outputs": [
    {
     "data": {
      "text/plain": [
       "count    29523.000000\n",
       "mean         8.492111\n",
       "std         10.600220\n",
       "min          0.000001\n",
       "25%          1.024000\n",
       "50%          5.762694\n",
       "75%         17.006000\n",
       "max        341.260000\n",
       "Name: fuel_mmbtu_per_unit, dtype: float64"
      ]
     },
     "execution_count": 16,
     "metadata": {},
     "output_type": "execute_result"
    }
   ],
   "source": [
    "# Que4\n",
    "data.fuel_mmbtu_per_unit.describe()"
   ]
  },
  {
   "cell_type": "code",
   "execution_count": 17,
   "metadata": {},
   "outputs": [
    {
     "name": "stdout",
     "output_type": "stream",
     "text": [
      "skewness: 15.851495469109503 kurtosis: 651.3694501337732\n"
     ]
    }
   ],
   "source": [
    "# Que5\n",
    "print('skewness: {} kurtosis: {}'.format(data.fuel_qty_burned.skew(), data.fuel_qty_burned.kurt()))"
   ]
  },
  {
   "cell_type": "code",
   "execution_count": 18,
   "metadata": {},
   "outputs": [
    {
     "name": "stdout",
     "output_type": "stream",
     "text": [
      "record_id                         0\n",
      "utility_id_ferc1                  0\n",
      "report_year                       0\n",
      "plant_name_ferc1                  0\n",
      "fuel_type_code_pudl               0\n",
      "fuel_unit                       180\n",
      "fuel_qty_burned                   0\n",
      "fuel_mmbtu_per_unit               0\n",
      "fuel_cost_per_unit_burned         0\n",
      "fuel_cost_per_unit_delivered      0\n",
      "fuel_cost_per_mmbtu               0\n",
      "dtype: int64 \n",
      "\n",
      " percentage: 0.00609694136774718\n"
     ]
    }
   ],
   "source": [
    "# Que6\n",
    "print(data.isnull().sum(), '\\n\\n percentage: {}'.format(180/len(data.fuel_unit)))"
   ]
  },
  {
   "cell_type": "code",
   "execution_count": 19,
   "metadata": {},
   "outputs": [
    {
     "name": "stdout",
     "output_type": "stream",
     "text": [
      "Datatype: 0    ton\n",
      "1    ton\n",
      "2    ton\n",
      "3    ton\n",
      "4    mcf\n",
      "Name: fuel_unit, dtype: object \n",
      " Mode: 0    mcf\n",
      "dtype: object\n"
     ]
    }
   ],
   "source": [
    "# Que7\n",
    "# Feature: fuel_unit\n",
    "# Imputation: mode\n",
    "print('Datatype: {} \\n Mode: {}'.format(data.fuel_unit.head(), data.fuel_unit.mode()))"
   ]
  },
  {
   "cell_type": "code",
   "execution_count": 20,
   "metadata": {},
   "outputs": [
    {
     "data": {
      "text/plain": [
       "208.64903102665716"
      ]
     },
     "execution_count": 20,
     "metadata": {},
     "output_type": "execute_result"
    }
   ],
   "source": [
    "data.fuel_cost_per_unit_burned.mean()"
   ]
  },
  {
   "cell_type": "code",
   "execution_count": null,
   "metadata": {},
   "outputs": [],
   "source": []
  }
 ],
 "metadata": {
  "kernelspec": {
   "display_name": "Python 3",
   "language": "python",
   "name": "python3"
  },
  "language_info": {
   "codemirror_mode": {
    "name": "ipython",
    "version": 3
   },
   "file_extension": ".py",
   "mimetype": "text/x-python",
   "name": "python",
   "nbconvert_exporter": "python",
   "pygments_lexer": "ipython3",
   "version": "3.8.5"
  }
 },
 "nbformat": 4,
 "nbformat_minor": 4
}
