{
  "nbformat": 4,
  "nbformat_minor": 0,
  "metadata": {
    "colab": {
      "name": "Hamoye_Stage_D_final.ipynb",
      "provenance": [],
      "collapsed_sections": []
    },
    "kernelspec": {
      "name": "python3",
      "display_name": "Python 3"
    },
    "language_info": {
      "name": "python"
    },
    "accelerator": "GPU"
  },
  "cells": [
    {
      "cell_type": "code",
      "metadata": {
        "id": "OuYFs8oKMhQC"
      },
      "source": [
        "# Import the required libraries\n",
        "import numpy as np\n",
        "import pandas as pd\n",
        "import matplotlib.pyplot as plt\n",
        "import tensorflow as tf\n",
        "from tensorflow import keras"
      ],
      "execution_count": 1,
      "outputs": []
    },
    {
      "cell_type": "code",
      "metadata": {
        "id": "vkAAqSBtMprt"
      },
      "source": [
        "# Kaggle API\n",
        "import os\n",
        "os.environ['KAGGLE_USERNAME'] = 'kambleabhijeet'\n",
        "os.environ['KAGGLE_KEY'] = 'ea830af5f56bdcefde51c1f9b34db965'"
      ],
      "execution_count": 4,
      "outputs": []
    },
    {
      "cell_type": "code",
      "metadata": {
        "id": "tFTQ5fXqM8Lw",
        "colab": {
          "base_uri": "https://localhost:8080/"
        },
        "outputId": "c7b4fb2c-eb62-4b70-e84f-339779cc2550"
      },
      "source": [
        "# Downloading the dataset directly from Kaggle on the Colab environment \n",
        "!kaggle datasets download -d nikitarom/planets-dataset"
      ],
      "execution_count": 5,
      "outputs": [
        {
          "output_type": "stream",
          "name": "stdout",
          "text": [
            "Downloading planets-dataset.zip to /content\n",
            "100% 1.49G/1.50G [00:39<00:00, 37.0MB/s]\n",
            "100% 1.50G/1.50G [00:39<00:00, 40.6MB/s]\n"
          ]
        }
      ]
    },
    {
      "cell_type": "code",
      "metadata": {
        "id": "rlUzj5uNOciG"
      },
      "source": [
        "# Unzipping the dataset\n",
        "! unzip /content/planets-dataset.zip"
      ],
      "execution_count": null,
      "outputs": []
    },
    {
      "cell_type": "code",
      "metadata": {
        "colab": {
          "base_uri": "https://localhost:8080/"
        },
        "id": "oWZIMR4kZt4B",
        "outputId": "e0fbf53f-6fe9-485e-eaa4-e96fcad33887"
      },
      "source": [
        "free_gpu_cache()"
      ],
      "execution_count": 7,
      "outputs": [
        {
          "output_type": "stream",
          "name": "stdout",
          "text": [
            "Initial GPU Usage\n",
            "| ID | GPU | MEM |\n",
            "------------------\n",
            "|  0 |  0% |  1% |\n",
            "GPU Usage after emptying the cache\n",
            "| ID | GPU | MEM |\n",
            "------------------\n",
            "|  0 |  4% |  1% |\n"
          ]
        }
      ]
    },
    {
      "cell_type": "code",
      "metadata": {
        "colab": {
          "base_uri": "https://localhost:8080/",
          "height": 203
        },
        "id": "jevQ0PPcOvi6",
        "outputId": "ad5cc9a9-18ab-4b53-a0da-abbf43fec0b3"
      },
      "source": [
        "# Import the dataset\n",
        "train_classes = pd.read_csv(\"/content/planet/planet/train_classes.csv\")\n",
        "sample_sub = pd.read_csv(\"/content/planet/planet/sample_submission.csv\")\n",
        "train_classes.head()"
      ],
      "execution_count": 8,
      "outputs": [
        {
          "output_type": "execute_result",
          "data": {
            "text/html": [
              "<div>\n",
              "<style scoped>\n",
              "    .dataframe tbody tr th:only-of-type {\n",
              "        vertical-align: middle;\n",
              "    }\n",
              "\n",
              "    .dataframe tbody tr th {\n",
              "        vertical-align: top;\n",
              "    }\n",
              "\n",
              "    .dataframe thead th {\n",
              "        text-align: right;\n",
              "    }\n",
              "</style>\n",
              "<table border=\"1\" class=\"dataframe\">\n",
              "  <thead>\n",
              "    <tr style=\"text-align: right;\">\n",
              "      <th></th>\n",
              "      <th>image_name</th>\n",
              "      <th>tags</th>\n",
              "    </tr>\n",
              "  </thead>\n",
              "  <tbody>\n",
              "    <tr>\n",
              "      <th>0</th>\n",
              "      <td>train_0</td>\n",
              "      <td>haze primary</td>\n",
              "    </tr>\n",
              "    <tr>\n",
              "      <th>1</th>\n",
              "      <td>train_1</td>\n",
              "      <td>agriculture clear primary water</td>\n",
              "    </tr>\n",
              "    <tr>\n",
              "      <th>2</th>\n",
              "      <td>train_2</td>\n",
              "      <td>clear primary</td>\n",
              "    </tr>\n",
              "    <tr>\n",
              "      <th>3</th>\n",
              "      <td>train_3</td>\n",
              "      <td>clear primary</td>\n",
              "    </tr>\n",
              "    <tr>\n",
              "      <th>4</th>\n",
              "      <td>train_4</td>\n",
              "      <td>agriculture clear habitation primary road</td>\n",
              "    </tr>\n",
              "  </tbody>\n",
              "</table>\n",
              "</div>"
            ],
            "text/plain": [
              "  image_name                                       tags\n",
              "0    train_0                               haze primary\n",
              "1    train_1            agriculture clear primary water\n",
              "2    train_2                              clear primary\n",
              "3    train_3                              clear primary\n",
              "4    train_4  agriculture clear habitation primary road"
            ]
          },
          "metadata": {},
          "execution_count": 8
        }
      ]
    },
    {
      "cell_type": "code",
      "metadata": {
        "id": "wjwEwWNo18dm"
      },
      "source": [
        "# Create dictionary list for converting labels to numerical classes\n",
        "\n",
        "label_list = {'agriculture': 14,\n",
        " 'artisinal_mine': 5,\n",
        " 'bare_ground': 1,\n",
        " 'blooming': 3,\n",
        " 'blow_down': 0,\n",
        " 'clear': 10,\n",
        " 'cloudy': 16,\n",
        " 'conventional_mine': 2,\n",
        " 'cultivation': 4,\n",
        " 'habitation': 9,\n",
        " 'haze': 6,\n",
        " 'partly_cloudy': 13,\n",
        " 'primary': 7,\n",
        " 'road': 11,\n",
        " 'selective_logging': 12,\n",
        " 'slash_burn': 8,\n",
        " 'water': 15}"
      ],
      "execution_count": 9,
      "outputs": []
    },
    {
      "cell_type": "code",
      "metadata": {
        "id": "hlp4ACMU2JuM"
      },
      "source": [
        "# Counts the labels\n",
        "counts = {}\n",
        "tags = train_classes['tags'].map(lambda x: x.split(' '))\n",
        "for labels in tags.values:\n",
        "    for label in labels:\n",
        "        counts[label] = counts[label] + 1  if label in counts else 0      "
      ],
      "execution_count": 10,
      "outputs": []
    },
    {
      "cell_type": "code",
      "metadata": {
        "id": "qZpMMZ_82XNJ"
      },
      "source": [
        "# Load dataset \n",
        "all_labels = tags.values\n",
        "labels = list(set([y for x in all_labels for y in x]))\n",
        "\n",
        "def load_data(train_classes, labels, resize):\n",
        "    x_train = []\n",
        "    y_train = []\n",
        "\n",
        "    label_map = {l: i for i, l in enumerate(labels)}\n",
        "    inv_label_map = {i: l for l, i in label_map.items()}\n",
        "\n",
        "    for f, tags in train_classes.values:\n",
        "        img = cv2.imread('/content/planet/planet/train-jpg/{}.jpg'.format(f)) \n",
        "        targets = np.zeros(17)\n",
        "        for t in tags.split(' '):\n",
        "            targets[label_map[t]] = 1 \n",
        "\n",
        "        x_train.append(cv2.resize(img,resize))\n",
        "        y_train.append(targets)\n",
        "                \n",
        "    y_train = np.array(y_train, np.uint8)\n",
        "    x_train = np.array(x_train, np.float16) / 255.0\n",
        "\n",
        "    return x_train, y_train"
      ],
      "execution_count": 11,
      "outputs": []
    },
    {
      "cell_type": "code",
      "metadata": {
        "colab": {
          "base_uri": "https://localhost:8080/"
        },
        "id": "VeDAUqWq2dn0",
        "outputId": "d7cba0d9-dca1-46fc-8b6e-a44be96ada33"
      },
      "source": [
        "# Reshape the data\n",
        "import cv2\n",
        "from PIL import Image\n",
        "from skimage import io\n",
        "from tensorflow.keras.preprocessing.image import load_img, img_to_array\n",
        "\n",
        "x, y = load_data(train_classes, labels,resize=(64,64))\n",
        "print(x.shape)\n",
        "print(y.shape)"
      ],
      "execution_count": 12,
      "outputs": [
        {
          "output_type": "stream",
          "name": "stdout",
          "text": [
            "(40479, 64, 64, 3)\n",
            "(40479, 17)\n"
          ]
        }
      ]
    },
    {
      "cell_type": "code",
      "metadata": {
        "colab": {
          "base_uri": "https://localhost:8080/"
        },
        "id": "wRVFtNgPaErr",
        "outputId": "5c72f925-cd96-4e30-8cc7-12b385bc96b4"
      },
      "source": [
        "free_gpu_cache()"
      ],
      "execution_count": 13,
      "outputs": [
        {
          "output_type": "stream",
          "name": "stdout",
          "text": [
            "Initial GPU Usage\n",
            "| ID | GPU | MEM |\n",
            "------------------\n",
            "|  0 |  0% |  1% |\n",
            "GPU Usage after emptying the cache\n",
            "| ID | GPU | MEM |\n",
            "------------------\n",
            "|  0 |  4% |  1% |\n"
          ]
        }
      ]
    },
    {
      "cell_type": "code",
      "metadata": {
        "id": "OhVXAJPq29be",
        "colab": {
          "base_uri": "https://localhost:8080/"
        },
        "outputId": "20dcad17-3e6c-43f9-f812-90f83ac79784"
      },
      "source": [
        "# check shape of image data\n",
        "print(train_classes.shape)\n",
        "print(sample_sub.shape)"
      ],
      "execution_count": 14,
      "outputs": [
        {
          "output_type": "stream",
          "name": "stdout",
          "text": [
            "(40479, 2)\n",
            "(61191, 2)\n"
          ]
        }
      ]
    },
    {
      "cell_type": "code",
      "metadata": {
        "id": "CUx7WT6d3VLv",
        "colab": {
          "base_uri": "https://localhost:8080/"
        },
        "outputId": "2748b742-2195-48d8-cb3c-83dae02ba8c8"
      },
      "source": [
        "# Split the dataset into x_train, x_val, y_train and y_val\n",
        "from sklearn.model_selection import train_test_split\n",
        "x_train, x_val, y_train, y_val = train_test_split(x,y, test_size=0.2, random_state = 1)\n",
        "print(x_train.shape)\n",
        "print(x_val.shape)\n",
        "print(y_train.shape)\n",
        "print(y_val.shape)"
      ],
      "execution_count": 15,
      "outputs": [
        {
          "output_type": "stream",
          "name": "stdout",
          "text": [
            "(32383, 64, 64, 3)\n",
            "(8096, 64, 64, 3)\n",
            "(32383, 17)\n",
            "(8096, 17)\n"
          ]
        }
      ]
    },
    {
      "cell_type": "code",
      "metadata": {
        "id": "UMCYSZ9s3Xcy",
        "colab": {
          "base_uri": "https://localhost:8080/"
        },
        "outputId": "24ba9073-4906-4f99-a213-80bb5e0e4928"
      },
      "source": [
        "# Labels are given as tags in a single dataframe series\n",
        "from sklearn.preprocessing import MultiLabelBinarizer\n",
        "biner = MultiLabelBinarizer()\n",
        "tags = train_classes['tags'].str.split()\n",
        "y = biner.fit_transform(tags)\n",
        "\n",
        "labels = biner.classes_\n",
        "print('Number of labels: ', len(labels))\n",
        "print('\\n')\n",
        "print(labels)"
      ],
      "execution_count": 16,
      "outputs": [
        {
          "output_type": "stream",
          "name": "stdout",
          "text": [
            "Number of labels:  17\n",
            "\n",
            "\n",
            "['agriculture' 'artisinal_mine' 'bare_ground' 'blooming' 'blow_down'\n",
            " 'clear' 'cloudy' 'conventional_mine' 'cultivation' 'habitation' 'haze'\n",
            " 'partly_cloudy' 'primary' 'road' 'selective_logging' 'slash_burn' 'water']\n"
          ]
        }
      ]
    },
    {
      "cell_type": "code",
      "metadata": {
        "id": "cJq2F5rZ_qoU"
      },
      "source": [
        "# Import the layers to build a model and also pre-trained models\n",
        "from keras import backend as K\n",
        "from keras.models import Sequential\n",
        "from keras.layers import Dense, Dropout, Flatten, BatchNormalization\n",
        "from keras.layers import Conv2D, MaxPool2D\n",
        "from tensorflow.keras.applications.vgg19 import VGG19\n",
        "from tensorflow.keras.optimizers import Adam"
      ],
      "execution_count": 17,
      "outputs": []
    },
    {
      "cell_type": "code",
      "metadata": {
        "id": "kTlhpOYx_neZ"
      },
      "source": [
        "def fbeta_score_K(y_true, y_pred):\n",
        "    beta_squared = 4\n",
        "\n",
        "    tp = K.sum(y_true * y_pred) + K.epsilon()\n",
        "    fp = K.sum(y_pred) - tp\n",
        "    fn = K.sum(y_true) - tp\n",
        "\n",
        "    precision = tp / (tp + fp)\n",
        "    recall = tp / (tp + fn)\n",
        "\n",
        "    result = (beta_squared + 1) * (precision * recall) / (beta_squared * precision + recall + K.epsilon())\n",
        "    return result"
      ],
      "execution_count": 18,
      "outputs": []
    },
    {
      "cell_type": "code",
      "metadata": {
        "id": "3UdAmO7zOmSC"
      },
      "source": [
        "# To train our model we using pre-trained model VGG19\n",
        "def build_model():\n",
        "    base_model = VGG19(include_top=False, weights='imagenet', input_shape=(64, 64, 3))\n",
        "    model = Sequential()\n",
        "    model.add(BatchNormalization(input_shape=(64, 64, 3)))\n",
        "    model.add(base_model)\n",
        "    model.add(Flatten())\n",
        "    model.add(Dense(17, activation='sigmoid'))\n",
        "    opt = Adam(lr=1e-4)\n",
        "    model.compile(loss='binary_crossentropy', optimizer=opt, metrics=[fbeta_score_K])\n",
        "    return model"
      ],
      "execution_count": 20,
      "outputs": []
    },
    {
      "cell_type": "code",
      "metadata": {
        "colab": {
          "base_uri": "https://localhost:8080/"
        },
        "id": "wZ7vhviiBfzB",
        "outputId": "d180f19c-5d9f-41bb-8f10-082492ff095f"
      },
      "source": [
        "# Fit the model\n",
        "model = build_model() \n",
        "model.fit(x_train, y_train, batch_size=64, epochs=10, verbose=1, validation_data=(x_val, y_val))"
      ],
      "execution_count": 21,
      "outputs": [
        {
          "output_type": "stream",
          "name": "stdout",
          "text": [
            "Downloading data from https://storage.googleapis.com/tensorflow/keras-applications/vgg19/vgg19_weights_tf_dim_ordering_tf_kernels_notop.h5\n",
            "80142336/80134624 [==============================] - 1s 0us/step\n",
            "80150528/80134624 [==============================] - 1s 0us/step\n"
          ]
        },
        {
          "output_type": "stream",
          "name": "stderr",
          "text": [
            "/usr/local/lib/python3.7/dist-packages/keras/optimizer_v2/optimizer_v2.py:356: UserWarning: The `lr` argument is deprecated, use `learning_rate` instead.\n",
            "  \"The `lr` argument is deprecated, use `learning_rate` instead.\")\n"
          ]
        },
        {
          "output_type": "stream",
          "name": "stdout",
          "text": [
            "Epoch 1/10\n",
            "506/506 [==============================] - 148s 225ms/step - loss: 0.1346 - fbeta_score_K: 0.7750 - val_loss: 0.1170 - val_fbeta_score_K: 0.8008\n",
            "Epoch 2/10\n",
            "506/506 [==============================] - 111s 220ms/step - loss: 0.1072 - fbeta_score_K: 0.8174 - val_loss: 0.1051 - val_fbeta_score_K: 0.8146\n",
            "Epoch 3/10\n",
            "506/506 [==============================] - 108s 214ms/step - loss: 0.0993 - fbeta_score_K: 0.8312 - val_loss: 0.1017 - val_fbeta_score_K: 0.8376\n",
            "Epoch 4/10\n",
            "506/506 [==============================] - 108s 214ms/step - loss: 0.0934 - fbeta_score_K: 0.8408 - val_loss: 0.1037 - val_fbeta_score_K: 0.8385\n",
            "Epoch 5/10\n",
            "506/506 [==============================] - 108s 214ms/step - loss: 0.0876 - fbeta_score_K: 0.8506 - val_loss: 0.1023 - val_fbeta_score_K: 0.8518\n",
            "Epoch 6/10\n",
            "506/506 [==============================] - 108s 213ms/step - loss: 0.0827 - fbeta_score_K: 0.8585 - val_loss: 0.1007 - val_fbeta_score_K: 0.8392\n",
            "Epoch 7/10\n",
            "506/506 [==============================] - 107s 212ms/step - loss: 0.0759 - fbeta_score_K: 0.8701 - val_loss: 0.1084 - val_fbeta_score_K: 0.8546\n",
            "Epoch 8/10\n",
            "506/506 [==============================] - 108s 213ms/step - loss: 0.0712 - fbeta_score_K: 0.8779 - val_loss: 0.1068 - val_fbeta_score_K: 0.8412\n",
            "Epoch 9/10\n",
            "506/506 [==============================] - 107s 212ms/step - loss: 0.0623 - fbeta_score_K: 0.8932 - val_loss: 0.1149 - val_fbeta_score_K: 0.8604\n",
            "Epoch 10/10\n",
            "506/506 [==============================] - 107s 212ms/step - loss: 0.0550 - fbeta_score_K: 0.9057 - val_loss: 0.1237 - val_fbeta_score_K: 0.8415\n"
          ]
        },
        {
          "output_type": "execute_result",
          "data": {
            "text/plain": [
              "<keras.callbacks.History at 0x7fc9b2d192d0>"
            ]
          },
          "metadata": {},
          "execution_count": 21
        }
      ]
    },
    {
      "cell_type": "code",
      "metadata": {
        "id": "djzg3Y7xB6S-",
        "colab": {
          "base_uri": "https://localhost:8080/"
        },
        "outputId": "61bab443-2640-4df0-c301-fda4310cd519"
      },
      "source": [
        "# Evaluate the model on x_val dataset\n",
        "from sklearn.metrics import fbeta_score\n",
        "y_pred = model.predict(x_val, batch_size=64)\n",
        "score = fbeta_score(y_val, np.array(y_pred) > 0.2, beta=2, average='samples')\n",
        "\n",
        "print(\"Test score (f1): {}\".format(score))\n",
        "print(\"Error: {}\".format(100-score*100))"
      ],
      "execution_count": 22,
      "outputs": [
        {
          "output_type": "stream",
          "name": "stdout",
          "text": [
            "Test score (f1): 0.9061942662077559\n",
            "Error: 9.380573379224415\n"
          ]
        }
      ]
    },
    {
      "cell_type": "code",
      "metadata": {
        "id": "Z0Tzn5bfXdAQ",
        "colab": {
          "base_uri": "https://localhost:8080/"
        },
        "outputId": "5873d4b9-e4ea-4628-aa7d-49bc9d532fe1"
      },
      "source": [
        "test_loss, test_accuracy = model.evaluate(x_val, y_val)\n",
        "print('Test loss: {}'.format(test_loss))\n",
        "print('Test accuracy: {}'.format(test_accuracy))"
      ],
      "execution_count": 23,
      "outputs": [
        {
          "output_type": "stream",
          "name": "stdout",
          "text": [
            "253/253 [==============================] - 10s 39ms/step - loss: 0.1237 - fbeta_score_K: 0.8419\n",
            "Test loss: 0.12373435497283936\n",
            "Test accuracy: 0.8419274687767029\n"
          ]
        }
      ]
    },
    {
      "cell_type": "code",
      "metadata": {
        "id": "ZcR6qJ4UgJzW",
        "colab": {
          "base_uri": "https://localhost:8080/"
        },
        "outputId": "70c6e8e9-7bd0-41db-a1d6-ff963e1d5ecd"
      },
      "source": [
        "# Now, we'll test the model on Test data\n",
        "from tqdm import tqdm\n",
        "X_test=[]\n",
        "\n",
        "for img, label in tqdm(sample_sub[:40669].values, miniters = 1000):\n",
        "  X_test.append(cv2.resize(cv2.imread('/content/planet/planet/test-jpg/{}.jpg'.format(img)), (64,64)))\n",
        "\n",
        "for img, label in tqdm(sample_sub[40669:].values, miniters = 1000):\n",
        "  X_test.append(cv2.resize(cv2.imread('/content/test-jpg-additional/test-jpg-additional/{}.jpg'.format(img)), (64,64)))\n",
        "\n",
        "x_test = np.array(X_test, np.float16)/255"
      ],
      "execution_count": 42,
      "outputs": [
        {
          "output_type": "stream",
          "name": "stderr",
          "text": [
            "100%|██████████| 40669/40669 [00:54<00:00, 742.66it/s]\n",
            "100%|██████████| 20522/20522 [00:30<00:00, 668.89it/s]\n"
          ]
        }
      ]
    },
    {
      "cell_type": "code",
      "metadata": {
        "id": "MqwL43FgnxXc",
        "colab": {
          "base_uri": "https://localhost:8080/"
        },
        "outputId": "2c8f93cd-b081-4f4b-83eb-97ceeff25d10"
      },
      "source": [
        "x_test.shape"
      ],
      "execution_count": 43,
      "outputs": [
        {
          "output_type": "execute_result",
          "data": {
            "text/plain": [
              "(61191, 64, 64, 3)"
            ]
          },
          "metadata": {},
          "execution_count": 43
        }
      ]
    },
    {
      "cell_type": "code",
      "metadata": {
        "id": "k-vftHtlixZv"
      },
      "source": [
        "test_pred = model.predict(x_test, batch_size = 64)"
      ],
      "execution_count": 44,
      "outputs": []
    },
    {
      "cell_type": "code",
      "metadata": {
        "id": "otjfBcMWtca_"
      },
      "source": [
        "prediction = pd.DataFrame(test_pred, columns= labels)"
      ],
      "execution_count": 45,
      "outputs": []
    },
    {
      "cell_type": "code",
      "metadata": {
        "id": "IV2cWkTReTTh",
        "colab": {
          "base_uri": "https://localhost:8080/"
        },
        "outputId": "b7bc94cf-ff5e-4ece-b7e5-0b8ce8f6c31a"
      },
      "source": [
        "final_prediction = []\n",
        "\n",
        "for i in tqdm(range(prediction.shape[0]), miniters=1000):\n",
        "    a = prediction.loc[[i]]\n",
        "    a = a.apply(lambda x:x>0.2, axis =1)\n",
        "    a = a.transpose()\n",
        "    a = a.loc[a[i]==True]\n",
        "    ' '.join(list(a.index))\n",
        "    final_prediction.append(' '.join(list(a.index)))"
      ],
      "execution_count": 46,
      "outputs": [
        {
          "output_type": "stream",
          "name": "stderr",
          "text": [
            "100%|██████████| 61191/61191 [02:49<00:00, 361.96it/s]\n"
          ]
        }
      ]
    },
    {
      "cell_type": "code",
      "metadata": {
        "id": "gCDyPfo6tp60",
        "colab": {
          "base_uri": "https://localhost:8080/"
        },
        "outputId": "c4146296-3bac-4112-c820-3512afcb2dc7"
      },
      "source": [
        "sample_sub['tags'] = final_prediction\n",
        "sample_sub.to_csv('My_submission.csv', index = False)\n",
        "print(\"File saved successfully!\")"
      ],
      "execution_count": 47,
      "outputs": [
        {
          "output_type": "stream",
          "name": "stdout",
          "text": [
            "File saved successfully!\n"
          ]
        }
      ]
    },
    {
      "cell_type": "code",
      "metadata": {
        "id": "g4Q0KNyUiqlf"
      },
      "source": [
        ""
      ],
      "execution_count": null,
      "outputs": []
    }
  ]
}